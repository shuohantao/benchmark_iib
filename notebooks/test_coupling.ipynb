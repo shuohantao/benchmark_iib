{
 "cells": [
  {
   "cell_type": "code",
   "execution_count": 1,
   "metadata": {},
   "outputs": [],
   "source": [
    "import torch\n",
    "import torch.nn as nn\n",
    "import torch.nn.functional as F\n",
    "import os\n",
    "import sys; sys.path.append(os.path.abspath(os.path.join('..'))); sys.path.append(os.path.abspath(os.path.join('.')))\n",
    "from modules.random_fields import GaussianRF_idct\n",
    "from tools import ConfigManager"
   ]
  },
  {
   "cell_type": "code",
   "execution_count": 2,
   "metadata": {},
   "outputs": [],
   "source": [
    "from modules.act_norm import ActNorm"
   ]
  },
  {
   "cell_type": "code",
   "execution_count": 3,
   "metadata": {},
   "outputs": [
    {
     "name": "stderr",
     "output_type": "stream",
     "text": [
      "/home/st813@ad.eng.cam.ac.uk/benchmark_iib/modules/conv.py:13: UserWarning: torch.qr is deprecated in favor of torch.linalg.qr and will be removed in a future PyTorch release.\n",
      "The boolean parameter 'some' has been replaced with a string parameter 'mode'.\n",
      "Q, R = torch.qr(A, some)\n",
      "should be replaced with\n",
      "Q, R = torch.linalg.qr(A, 'reduced' if some else 'complete') (Triggered internally at ../aten/src/ATen/native/BatchLinearAlgebra.cpp:2425.)\n",
      "  q, _ = torch.qr(weight)\n"
     ]
    }
   ],
   "source": [
    "cm = ConfigManager('../config.yaml')\n",
    "car = cm.get_model().to('cuda')"
   ]
  },
  {
   "cell_type": "code",
   "execution_count": 4,
   "metadata": {},
   "outputs": [
    {
     "data": {
      "text/plain": [
       "<All keys matched successfully>"
      ]
     },
     "execution_count": 4,
     "metadata": {},
     "output_type": "execute_result"
    }
   ],
   "source": [
    "car.load_state_dict(torch.load('../tmp/saved_ckpt/model_all_16_28.pth'))"
   ]
  },
  {
   "cell_type": "code",
   "execution_count": 5,
   "metadata": {},
   "outputs": [],
   "source": [
    "import matplotlib.pyplot as plt\n",
    "import torch\n",
    "import torchvision\n",
    "def sample_grid(model, lowest, path=None, clip_range=None):\n",
    "    plt.rcParams['figure.figsize'] = [8, 8]\n",
    "    size_range = range(lowest, lowest+4*4, 4)\n",
    "    for i, size in enumerate(size_range):\n",
    "        plt.subplot(2, 2, i+1)\n",
    "        plt.title(f'{size}x{size}')\n",
    "        _sample_image_grid_from_model(model, resolution=size, device=torch.device('cuda'), clip_range=clip_range)\n",
    "    if path is not None:\n",
    "        plt.savefig(path)\n",
    "\n",
    "@torch.no_grad()\n",
    "def _sample_image_grid_from_model(model, device, resolution=28, clip_range=None):\n",
    "    X_samples = model.sample(num_samples=4, resolution=resolution, device=device).cpu()\n",
    "    if clip_range is not None:\n",
    "        X_samples = torch.clamp(X_samples, clip_range[0], clip_range[1])\n",
    "    print(X_samples.shape)\n",
    "    grid = torchvision.utils.make_grid(X_samples, nrow=2)\n",
    "    plt.imshow(grid[0], cmap=\"gray\", vmin=0, vmax=255)"
   ]
  },
  {
   "cell_type": "code",
   "execution_count": 6,
   "metadata": {},
   "outputs": [],
   "source": [
    "for i in car.flow:\n",
    "    if isinstance(i, ActNorm):\n",
    "        i.is_initialized = True\n",
    "for i in car.ar_flow:\n",
    "    if isinstance(i, ActNorm):\n",
    "        i.is_initialized = True"
   ]
  }
 ],
 "metadata": {
  "kernelspec": {
   "display_name": "nflow",
   "language": "python",
   "name": "python3"
  },
  "language_info": {
   "codemirror_mode": {
    "name": "ipython",
    "version": 3
   },
   "file_extension": ".py",
   "mimetype": "text/x-python",
   "name": "python",
   "nbconvert_exporter": "python",
   "pygments_lexer": "ipython3",
   "version": "3.11.0"
  }
 },
 "nbformat": 4,
 "nbformat_minor": 2
}
