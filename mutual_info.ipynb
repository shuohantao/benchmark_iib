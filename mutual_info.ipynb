{
 "cells": [
  {
   "cell_type": "code",
   "execution_count": 3,
   "metadata": {},
   "outputs": [],
   "source": [
    "import torch\n",
    "from tools import *\n",
    "import numpy as np\n",
    "from sklearn.metrics import mutual_info_score\n",
    "from sklearn.feature_selection import mutual_info_regression"
   ]
  },
  {
   "cell_type": "code",
   "execution_count": 2,
   "metadata": {},
   "outputs": [],
   "source": [
    "cm = ConfigManager('config.yaml')\n",
    "trainer = Trainer(cm)"
   ]
  },
  {
   "cell_type": "code",
   "execution_count": 3,
   "metadata": {},
   "outputs": [],
   "source": [
    "train, test = trainer.load_dataset()"
   ]
  },
  {
   "cell_type": "code",
   "execution_count": 4,
   "metadata": {},
   "outputs": [],
   "source": [
    "def sample_freq(x, f1, f2):\n",
    "    b, c, h, w = x.shape\n",
    "    freq = torch.fft.rfft2(x, dim=(-2, -1), norm='forward')\n",
    "    x1 = torch.cat([torch.abs(freq[..., f1//2, :f1//2].view(b*c, -1)), torch.abs(freq[..., :f1//2, f1//2].view(b*c, -1)), torch.abs(freq[..., -f1//2, -f1//2:].view(b*c, -1)), torch.abs(freq[..., -f1//2:, -f1//2].view(b*c, -1))], dim=-1)\n",
    "    x2 = torch.cat([torch.abs(freq[..., f2//2, :f2//2].view(b*c, -1)), torch.abs(freq[..., :f2//2, f2//2].view(b*c, -1)), torch.abs(freq[..., -f2//2, -f2//2:].view(b*c, -1)), torch.abs(freq[..., -f2//2:, -f2//2].view(b*c, -1))], dim=-1)\n",
    "    return x1, x2"
   ]
  },
  {
   "cell_type": "code",
   "execution_count": 8,
   "metadata": {},
   "outputs": [
    {
     "name": "stdout",
     "output_type": "stream",
     "text": [
      "0.1125232385219028\n",
      "0.11639244318029089\n",
      "0.11570499253232724\n",
      "0.11323224943835242\n",
      "0.11647434633920802\n",
      "0.11610526670236222\n",
      "0.11436637279230048\n",
      "0.11917888925694634\n",
      "0.1120874111566561\n",
      "0.11799332807937765\n",
      "0.11381712719739667\n"
     ]
    },
    {
     "ename": "KeyboardInterrupt",
     "evalue": "",
     "output_type": "error",
     "traceback": [
      "\u001b[0;31m---------------------------------------------------------------------------\u001b[0m",
      "\u001b[0;31mKeyboardInterrupt\u001b[0m                         Traceback (most recent call last)",
      "Cell \u001b[0;32mIn[8], line 9\u001b[0m\n\u001b[1;32m      7\u001b[0m     X \u001b[38;5;241m=\u001b[39m x1\u001b[38;5;241m.\u001b[39mnumpy()\n\u001b[1;32m      8\u001b[0m     y \u001b[38;5;241m=\u001b[39m x2[\u001b[38;5;241m.\u001b[39m\u001b[38;5;241m.\u001b[39m\u001b[38;5;241m.\u001b[39m, t]\u001b[38;5;241m.\u001b[39mnumpy()\n\u001b[0;32m----> 9\u001b[0m     mi_scores \u001b[38;5;241m=\u001b[39m \u001b[43mmutual_info_regression\u001b[49m\u001b[43m(\u001b[49m\u001b[43mX\u001b[49m\u001b[43m,\u001b[49m\u001b[43m \u001b[49m\u001b[43my\u001b[49m\u001b[43m)\u001b[49m\n\u001b[1;32m     10\u001b[0m     val \u001b[38;5;241m+\u001b[39m\u001b[38;5;241m=\u001b[39m np\u001b[38;5;241m.\u001b[39mmean(mi_scores)\n\u001b[1;32m     11\u001b[0m mi \u001b[38;5;241m+\u001b[39m\u001b[38;5;241m=\u001b[39m val \u001b[38;5;241m/\u001b[39m x\u001b[38;5;241m.\u001b[39mshape[\u001b[38;5;241m-\u001b[39m\u001b[38;5;241m1\u001b[39m]\n",
      "File \u001b[0;32m~/anaconda3/envs/score/lib/python3.11/site-packages/sklearn/feature_selection/_mutual_info.py:388\u001b[0m, in \u001b[0;36mmutual_info_regression\u001b[0;34m(X, y, discrete_features, n_neighbors, copy, random_state)\u001b[0m\n\u001b[1;32m    312\u001b[0m \u001b[38;5;28;01mdef\u001b[39;00m \u001b[38;5;21mmutual_info_regression\u001b[39m(\n\u001b[1;32m    313\u001b[0m     X, y, \u001b[38;5;241m*\u001b[39m, discrete_features\u001b[38;5;241m=\u001b[39m\u001b[38;5;124m\"\u001b[39m\u001b[38;5;124mauto\u001b[39m\u001b[38;5;124m\"\u001b[39m, n_neighbors\u001b[38;5;241m=\u001b[39m\u001b[38;5;241m3\u001b[39m, copy\u001b[38;5;241m=\u001b[39m\u001b[38;5;28;01mTrue\u001b[39;00m, random_state\u001b[38;5;241m=\u001b[39m\u001b[38;5;28;01mNone\u001b[39;00m\n\u001b[1;32m    314\u001b[0m ):\n\u001b[1;32m    315\u001b[0m \u001b[38;5;250m    \u001b[39m\u001b[38;5;124;03m\"\"\"Estimate mutual information for a continuous target variable.\u001b[39;00m\n\u001b[1;32m    316\u001b[0m \n\u001b[1;32m    317\u001b[0m \u001b[38;5;124;03m    Mutual information (MI) [1]_ between two random variables is a non-negative\u001b[39;00m\n\u001b[0;32m   (...)\u001b[0m\n\u001b[1;32m    386\u001b[0m \u001b[38;5;124;03m           of a Random Vector\", Probl. Peredachi Inf., 23:2 (1987), 9-16\u001b[39;00m\n\u001b[1;32m    387\u001b[0m \u001b[38;5;124;03m    \"\"\"\u001b[39;00m\n\u001b[0;32m--> 388\u001b[0m     \u001b[38;5;28;01mreturn\u001b[39;00m \u001b[43m_estimate_mi\u001b[49m\u001b[43m(\u001b[49m\u001b[43mX\u001b[49m\u001b[43m,\u001b[49m\u001b[43m \u001b[49m\u001b[43my\u001b[49m\u001b[43m,\u001b[49m\u001b[43m \u001b[49m\u001b[43mdiscrete_features\u001b[49m\u001b[43m,\u001b[49m\u001b[43m \u001b[49m\u001b[38;5;28;43;01mFalse\u001b[39;49;00m\u001b[43m,\u001b[49m\u001b[43m \u001b[49m\u001b[43mn_neighbors\u001b[49m\u001b[43m,\u001b[49m\u001b[43m \u001b[49m\u001b[43mcopy\u001b[49m\u001b[43m,\u001b[49m\u001b[43m \u001b[49m\u001b[43mrandom_state\u001b[49m\u001b[43m)\u001b[49m\n",
      "File \u001b[0;32m~/anaconda3/envs/score/lib/python3.11/site-packages/sklearn/feature_selection/_mutual_info.py:304\u001b[0m, in \u001b[0;36m_estimate_mi\u001b[0;34m(X, y, discrete_features, discrete_target, n_neighbors, copy, random_state)\u001b[0m\n\u001b[1;32m    297\u001b[0m     y \u001b[38;5;241m=\u001b[39m scale(y, with_mean\u001b[38;5;241m=\u001b[39m\u001b[38;5;28;01mFalse\u001b[39;00m)\n\u001b[1;32m    298\u001b[0m     y \u001b[38;5;241m+\u001b[39m\u001b[38;5;241m=\u001b[39m (\n\u001b[1;32m    299\u001b[0m         \u001b[38;5;241m1e-10\u001b[39m\n\u001b[1;32m    300\u001b[0m         \u001b[38;5;241m*\u001b[39m np\u001b[38;5;241m.\u001b[39mmaximum(\u001b[38;5;241m1\u001b[39m, np\u001b[38;5;241m.\u001b[39mmean(np\u001b[38;5;241m.\u001b[39mabs(y)))\n\u001b[1;32m    301\u001b[0m         \u001b[38;5;241m*\u001b[39m rng\u001b[38;5;241m.\u001b[39mstandard_normal(size\u001b[38;5;241m=\u001b[39mn_samples)\n\u001b[1;32m    302\u001b[0m     )\n\u001b[0;32m--> 304\u001b[0m mi \u001b[38;5;241m=\u001b[39m \u001b[43m[\u001b[49m\n\u001b[1;32m    305\u001b[0m \u001b[43m    \u001b[49m\u001b[43m_compute_mi\u001b[49m\u001b[43m(\u001b[49m\u001b[43mx\u001b[49m\u001b[43m,\u001b[49m\u001b[43m \u001b[49m\u001b[43my\u001b[49m\u001b[43m,\u001b[49m\u001b[43m \u001b[49m\u001b[43mdiscrete_feature\u001b[49m\u001b[43m,\u001b[49m\u001b[43m \u001b[49m\u001b[43mdiscrete_target\u001b[49m\u001b[43m,\u001b[49m\u001b[43m \u001b[49m\u001b[43mn_neighbors\u001b[49m\u001b[43m)\u001b[49m\n\u001b[1;32m    306\u001b[0m \u001b[43m    \u001b[49m\u001b[38;5;28;43;01mfor\u001b[39;49;00m\u001b[43m \u001b[49m\u001b[43mx\u001b[49m\u001b[43m,\u001b[49m\u001b[43m \u001b[49m\u001b[43mdiscrete_feature\u001b[49m\u001b[43m \u001b[49m\u001b[38;5;129;43;01min\u001b[39;49;00m\u001b[43m \u001b[49m\u001b[38;5;28;43mzip\u001b[39;49m\u001b[43m(\u001b[49m\u001b[43m_iterate_columns\u001b[49m\u001b[43m(\u001b[49m\u001b[43mX\u001b[49m\u001b[43m)\u001b[49m\u001b[43m,\u001b[49m\u001b[43m \u001b[49m\u001b[43mdiscrete_mask\u001b[49m\u001b[43m)\u001b[49m\n\u001b[1;32m    307\u001b[0m \u001b[43m\u001b[49m\u001b[43m]\u001b[49m\n\u001b[1;32m    309\u001b[0m \u001b[38;5;28;01mreturn\u001b[39;00m np\u001b[38;5;241m.\u001b[39marray(mi)\n",
      "File \u001b[0;32m~/anaconda3/envs/score/lib/python3.11/site-packages/sklearn/feature_selection/_mutual_info.py:305\u001b[0m, in \u001b[0;36m<listcomp>\u001b[0;34m(.0)\u001b[0m\n\u001b[1;32m    297\u001b[0m     y \u001b[38;5;241m=\u001b[39m scale(y, with_mean\u001b[38;5;241m=\u001b[39m\u001b[38;5;28;01mFalse\u001b[39;00m)\n\u001b[1;32m    298\u001b[0m     y \u001b[38;5;241m+\u001b[39m\u001b[38;5;241m=\u001b[39m (\n\u001b[1;32m    299\u001b[0m         \u001b[38;5;241m1e-10\u001b[39m\n\u001b[1;32m    300\u001b[0m         \u001b[38;5;241m*\u001b[39m np\u001b[38;5;241m.\u001b[39mmaximum(\u001b[38;5;241m1\u001b[39m, np\u001b[38;5;241m.\u001b[39mmean(np\u001b[38;5;241m.\u001b[39mabs(y)))\n\u001b[1;32m    301\u001b[0m         \u001b[38;5;241m*\u001b[39m rng\u001b[38;5;241m.\u001b[39mstandard_normal(size\u001b[38;5;241m=\u001b[39mn_samples)\n\u001b[1;32m    302\u001b[0m     )\n\u001b[1;32m    304\u001b[0m mi \u001b[38;5;241m=\u001b[39m [\n\u001b[0;32m--> 305\u001b[0m     \u001b[43m_compute_mi\u001b[49m\u001b[43m(\u001b[49m\u001b[43mx\u001b[49m\u001b[43m,\u001b[49m\u001b[43m \u001b[49m\u001b[43my\u001b[49m\u001b[43m,\u001b[49m\u001b[43m \u001b[49m\u001b[43mdiscrete_feature\u001b[49m\u001b[43m,\u001b[49m\u001b[43m \u001b[49m\u001b[43mdiscrete_target\u001b[49m\u001b[43m,\u001b[49m\u001b[43m \u001b[49m\u001b[43mn_neighbors\u001b[49m\u001b[43m)\u001b[49m\n\u001b[1;32m    306\u001b[0m     \u001b[38;5;28;01mfor\u001b[39;00m x, discrete_feature \u001b[38;5;129;01min\u001b[39;00m \u001b[38;5;28mzip\u001b[39m(_iterate_columns(X), discrete_mask)\n\u001b[1;32m    307\u001b[0m ]\n\u001b[1;32m    309\u001b[0m \u001b[38;5;28;01mreturn\u001b[39;00m np\u001b[38;5;241m.\u001b[39marray(mi)\n",
      "File \u001b[0;32m~/anaconda3/envs/score/lib/python3.11/site-packages/sklearn/feature_selection/_mutual_info.py:165\u001b[0m, in \u001b[0;36m_compute_mi\u001b[0;34m(x, y, x_discrete, y_discrete, n_neighbors)\u001b[0m\n\u001b[1;32m    163\u001b[0m     \u001b[38;5;28;01mreturn\u001b[39;00m _compute_mi_cd(x, y, n_neighbors)\n\u001b[1;32m    164\u001b[0m \u001b[38;5;28;01melse\u001b[39;00m:\n\u001b[0;32m--> 165\u001b[0m     \u001b[38;5;28;01mreturn\u001b[39;00m \u001b[43m_compute_mi_cc\u001b[49m\u001b[43m(\u001b[49m\u001b[43mx\u001b[49m\u001b[43m,\u001b[49m\u001b[43m \u001b[49m\u001b[43my\u001b[49m\u001b[43m,\u001b[49m\u001b[43m \u001b[49m\u001b[43mn_neighbors\u001b[49m\u001b[43m)\u001b[49m\n",
      "File \u001b[0;32m~/anaconda3/envs/score/lib/python3.11/site-packages/sklearn/feature_selection/_mutual_info.py:73\u001b[0m, in \u001b[0;36m_compute_mi_cc\u001b[0;34m(x, y, n_neighbors)\u001b[0m\n\u001b[1;32m     66\u001b[0m ny \u001b[38;5;241m=\u001b[39m kd\u001b[38;5;241m.\u001b[39mquery_radius(y, radius, count_only\u001b[38;5;241m=\u001b[39m\u001b[38;5;28;01mTrue\u001b[39;00m, return_distance\u001b[38;5;241m=\u001b[39m\u001b[38;5;28;01mFalse\u001b[39;00m)\n\u001b[1;32m     67\u001b[0m ny \u001b[38;5;241m=\u001b[39m np\u001b[38;5;241m.\u001b[39marray(ny) \u001b[38;5;241m-\u001b[39m \u001b[38;5;241m1.0\u001b[39m\n\u001b[1;32m     69\u001b[0m mi \u001b[38;5;241m=\u001b[39m (\n\u001b[1;32m     70\u001b[0m     digamma(n_samples)\n\u001b[1;32m     71\u001b[0m     \u001b[38;5;241m+\u001b[39m digamma(n_neighbors)\n\u001b[1;32m     72\u001b[0m     \u001b[38;5;241m-\u001b[39m np\u001b[38;5;241m.\u001b[39mmean(digamma(nx \u001b[38;5;241m+\u001b[39m \u001b[38;5;241m1\u001b[39m))\n\u001b[0;32m---> 73\u001b[0m     \u001b[38;5;241m-\u001b[39m \u001b[43mnp\u001b[49m\u001b[38;5;241;43m.\u001b[39;49m\u001b[43mmean\u001b[49m\u001b[43m(\u001b[49m\u001b[43mdigamma\u001b[49m\u001b[43m(\u001b[49m\u001b[43mny\u001b[49m\u001b[43m \u001b[49m\u001b[38;5;241;43m+\u001b[39;49m\u001b[43m \u001b[49m\u001b[38;5;241;43m1\u001b[39;49m\u001b[43m)\u001b[49m\u001b[43m)\u001b[49m\n\u001b[1;32m     74\u001b[0m )\n\u001b[1;32m     76\u001b[0m \u001b[38;5;28;01mreturn\u001b[39;00m \u001b[38;5;28mmax\u001b[39m(\u001b[38;5;241m0\u001b[39m, mi)\n",
      "File \u001b[0;32m~/anaconda3/envs/score/lib/python3.11/site-packages/numpy/core/fromnumeric.py:3504\u001b[0m, in \u001b[0;36mmean\u001b[0;34m(a, axis, dtype, out, keepdims, where)\u001b[0m\n\u001b[1;32m   3501\u001b[0m     \u001b[38;5;28;01melse\u001b[39;00m:\n\u001b[1;32m   3502\u001b[0m         \u001b[38;5;28;01mreturn\u001b[39;00m mean(axis\u001b[38;5;241m=\u001b[39maxis, dtype\u001b[38;5;241m=\u001b[39mdtype, out\u001b[38;5;241m=\u001b[39mout, \u001b[38;5;241m*\u001b[39m\u001b[38;5;241m*\u001b[39mkwargs)\n\u001b[0;32m-> 3504\u001b[0m \u001b[38;5;28;01mreturn\u001b[39;00m \u001b[43m_methods\u001b[49m\u001b[38;5;241;43m.\u001b[39;49m\u001b[43m_mean\u001b[49m\u001b[43m(\u001b[49m\u001b[43ma\u001b[49m\u001b[43m,\u001b[49m\u001b[43m \u001b[49m\u001b[43maxis\u001b[49m\u001b[38;5;241;43m=\u001b[39;49m\u001b[43maxis\u001b[49m\u001b[43m,\u001b[49m\u001b[43m \u001b[49m\u001b[43mdtype\u001b[49m\u001b[38;5;241;43m=\u001b[39;49m\u001b[43mdtype\u001b[49m\u001b[43m,\u001b[49m\n\u001b[1;32m   3505\u001b[0m \u001b[43m                      \u001b[49m\u001b[43mout\u001b[49m\u001b[38;5;241;43m=\u001b[39;49m\u001b[43mout\u001b[49m\u001b[43m,\u001b[49m\u001b[43m \u001b[49m\u001b[38;5;241;43m*\u001b[39;49m\u001b[38;5;241;43m*\u001b[39;49m\u001b[43mkwargs\u001b[49m\u001b[43m)\u001b[49m\n",
      "File \u001b[0;32m~/anaconda3/envs/score/lib/python3.11/site-packages/numpy/core/_methods.py:106\u001b[0m, in \u001b[0;36m_mean\u001b[0;34m(a, axis, dtype, out, keepdims, where)\u001b[0m\n\u001b[1;32m    102\u001b[0m arr \u001b[38;5;241m=\u001b[39m asanyarray(a)\n\u001b[1;32m    104\u001b[0m is_float16_result \u001b[38;5;241m=\u001b[39m \u001b[38;5;28;01mFalse\u001b[39;00m\n\u001b[0;32m--> 106\u001b[0m rcount \u001b[38;5;241m=\u001b[39m \u001b[43m_count_reduce_items\u001b[49m\u001b[43m(\u001b[49m\u001b[43marr\u001b[49m\u001b[43m,\u001b[49m\u001b[43m \u001b[49m\u001b[43maxis\u001b[49m\u001b[43m,\u001b[49m\u001b[43m \u001b[49m\u001b[43mkeepdims\u001b[49m\u001b[38;5;241;43m=\u001b[39;49m\u001b[43mkeepdims\u001b[49m\u001b[43m,\u001b[49m\u001b[43m \u001b[49m\u001b[43mwhere\u001b[49m\u001b[38;5;241;43m=\u001b[39;49m\u001b[43mwhere\u001b[49m\u001b[43m)\u001b[49m\n\u001b[1;32m    107\u001b[0m \u001b[38;5;28;01mif\u001b[39;00m rcount \u001b[38;5;241m==\u001b[39m \u001b[38;5;241m0\u001b[39m \u001b[38;5;28;01mif\u001b[39;00m where \u001b[38;5;129;01mis\u001b[39;00m \u001b[38;5;28;01mTrue\u001b[39;00m \u001b[38;5;28;01melse\u001b[39;00m umr_any(rcount \u001b[38;5;241m==\u001b[39m \u001b[38;5;241m0\u001b[39m, axis\u001b[38;5;241m=\u001b[39m\u001b[38;5;28;01mNone\u001b[39;00m):\n\u001b[1;32m    108\u001b[0m     warnings\u001b[38;5;241m.\u001b[39mwarn(\u001b[38;5;124m\"\u001b[39m\u001b[38;5;124mMean of empty slice.\u001b[39m\u001b[38;5;124m\"\u001b[39m, \u001b[38;5;167;01mRuntimeWarning\u001b[39;00m, stacklevel\u001b[38;5;241m=\u001b[39m\u001b[38;5;241m2\u001b[39m)\n",
      "File \u001b[0;32m~/anaconda3/envs/score/lib/python3.11/site-packages/numpy/core/_methods.py:77\u001b[0m, in \u001b[0;36m_count_reduce_items\u001b[0;34m(arr, axis, keepdims, where)\u001b[0m\n\u001b[1;32m     75\u001b[0m     items \u001b[38;5;241m=\u001b[39m \u001b[38;5;241m1\u001b[39m\n\u001b[1;32m     76\u001b[0m     \u001b[38;5;28;01mfor\u001b[39;00m ax \u001b[38;5;129;01min\u001b[39;00m axis:\n\u001b[0;32m---> 77\u001b[0m         items \u001b[38;5;241m*\u001b[39m\u001b[38;5;241m=\u001b[39m arr\u001b[38;5;241m.\u001b[39mshape[mu\u001b[38;5;241m.\u001b[39mnormalize_axis_index(ax, arr\u001b[38;5;241m.\u001b[39mndim)]\n\u001b[1;32m     78\u001b[0m     items \u001b[38;5;241m=\u001b[39m nt\u001b[38;5;241m.\u001b[39mintp(items)\n\u001b[1;32m     79\u001b[0m \u001b[38;5;28;01melse\u001b[39;00m:\n\u001b[1;32m     80\u001b[0m     \u001b[38;5;66;03m# TODO: Optimize case when `where` is broadcast along a non-reduction\u001b[39;00m\n\u001b[1;32m     81\u001b[0m     \u001b[38;5;66;03m# axis and full sum is more excessive than needed.\u001b[39;00m\n\u001b[1;32m     82\u001b[0m \n\u001b[1;32m     83\u001b[0m     \u001b[38;5;66;03m# guarded to protect circular imports\u001b[39;00m\n",
      "\u001b[0;31mKeyboardInterrupt\u001b[0m: "
     ]
    }
   ],
   "source": [
    "mi = 0\n",
    "for i in train:\n",
    "    x = i[0]\n",
    "    x1, x2 = sample_freq(x, 28, 27)\n",
    "    val = 0\n",
    "    for t in range(x2.shape[-1]):\n",
    "        X = x1.numpy()\n",
    "        y = x2[..., t].numpy()\n",
    "        mi_scores = mutual_info_regression(X, y)\n",
    "        val += np.mean(mi_scores)\n",
    "    mi += val / x.shape[-1]\n",
    "    print(np.mean(mi_scores))\n",
    "mi /= len(train)\n"
   ]
  },
  {
   "cell_type": "code",
   "execution_count": 1,
   "metadata": {},
   "outputs": [],
   "source": [
    "height=28\n",
    "width=15\n",
    "batch_size = 1"
   ]
  },
  {
   "cell_type": "code",
   "execution_count": 4,
   "metadata": {},
   "outputs": [],
   "source": [
    "x_coords = torch.arange(width, dtype=torch.float32).view(1, 1, 1, -1)\n",
    "y_coords = torch.arange(height, dtype=torch.float32).view(1, 1, -1, 1)\n",
    "pos = torch.zeros((batch_size, 2, height, width), dtype=torch.float32)\n",
    "pos[:, 0, :, :] = x_coords / 2\n",
    "pos[:, 1, :, :] = y_coords / 2"
   ]
  },
  {
   "cell_type": "code",
   "execution_count": 5,
   "metadata": {},
   "outputs": [],
   "source": [
    "midpoint = height // 2\n",
    "\n",
    "# Flip the upper half vertically and copy to the lower half\n",
    "pos[:, 1, midpoint:, :] = torch.flip(pos[:, 1, :midpoint, :], [-2])"
   ]
  },
  {
   "cell_type": "code",
   "execution_count": 6,
   "metadata": {},
   "outputs": [
    {
     "data": {
      "text/plain": [
       "tensor([[[0.3679, 0.3951, 0.4244, 0.4558, 0.4895, 0.5258, 0.5647, 0.6065,\n",
       "          0.6514, 0.6997, 0.7515, 0.8071, 0.8669, 0.9311, 1.0000],\n",
       "         [0.3951, 0.3951, 0.4244, 0.4558, 0.4895, 0.5258, 0.5647, 0.6065,\n",
       "          0.6514, 0.6997, 0.7515, 0.8071, 0.8669, 0.9311, 1.0000],\n",
       "         [0.4244, 0.4244, 0.4244, 0.4558, 0.4895, 0.5258, 0.5647, 0.6065,\n",
       "          0.6514, 0.6997, 0.7515, 0.8071, 0.8669, 0.9311, 1.0000],\n",
       "         [0.4558, 0.4558, 0.4558, 0.4558, 0.4895, 0.5258, 0.5647, 0.6065,\n",
       "          0.6514, 0.6997, 0.7515, 0.8071, 0.8669, 0.9311, 1.0000],\n",
       "         [0.4895, 0.4895, 0.4895, 0.4895, 0.4895, 0.5258, 0.5647, 0.6065,\n",
       "          0.6514, 0.6997, 0.7515, 0.8071, 0.8669, 0.9311, 1.0000],\n",
       "         [0.5258, 0.5258, 0.5258, 0.5258, 0.5258, 0.5258, 0.5647, 0.6065,\n",
       "          0.6514, 0.6997, 0.7515, 0.8071, 0.8669, 0.9311, 1.0000],\n",
       "         [0.5647, 0.5647, 0.5647, 0.5647, 0.5647, 0.5647, 0.5647, 0.6065,\n",
       "          0.6514, 0.6997, 0.7515, 0.8071, 0.8669, 0.9311, 1.0000],\n",
       "         [0.6065, 0.6065, 0.6065, 0.6065, 0.6065, 0.6065, 0.6065, 0.6065,\n",
       "          0.6514, 0.6997, 0.7515, 0.8071, 0.8669, 0.9311, 1.0000],\n",
       "         [0.6514, 0.6514, 0.6514, 0.6514, 0.6514, 0.6514, 0.6514, 0.6514,\n",
       "          0.6514, 0.6997, 0.7515, 0.8071, 0.8669, 0.9311, 1.0000],\n",
       "         [0.6997, 0.6997, 0.6997, 0.6997, 0.6997, 0.6997, 0.6997, 0.6997,\n",
       "          0.6997, 0.6997, 0.7515, 0.8071, 0.8669, 0.9311, 1.0000],\n",
       "         [0.7515, 0.7515, 0.7515, 0.7515, 0.7515, 0.7515, 0.7515, 0.7515,\n",
       "          0.7515, 0.7515, 0.7515, 0.8071, 0.8669, 0.9311, 1.0000],\n",
       "         [0.8071, 0.8071, 0.8071, 0.8071, 0.8071, 0.8071, 0.8071, 0.8071,\n",
       "          0.8071, 0.8071, 0.8071, 0.8071, 0.8669, 0.9311, 1.0000],\n",
       "         [0.8669, 0.8669, 0.8669, 0.8669, 0.8669, 0.8669, 0.8669, 0.8669,\n",
       "          0.8669, 0.8669, 0.8669, 0.8669, 0.8669, 0.9311, 1.0000],\n",
       "         [0.9311, 0.9311, 0.9311, 0.9311, 0.9311, 0.9311, 0.9311, 0.9311,\n",
       "          0.9311, 0.9311, 0.9311, 0.9311, 0.9311, 0.9311, 1.0000],\n",
       "         [0.9311, 0.9311, 0.9311, 0.9311, 0.9311, 0.9311, 0.9311, 0.9311,\n",
       "          0.9311, 0.9311, 0.9311, 0.9311, 0.9311, 0.9311, 1.0000],\n",
       "         [0.8669, 0.8669, 0.8669, 0.8669, 0.8669, 0.8669, 0.8669, 0.8669,\n",
       "          0.8669, 0.8669, 0.8669, 0.8669, 0.8669, 0.9311, 1.0000],\n",
       "         [0.8071, 0.8071, 0.8071, 0.8071, 0.8071, 0.8071, 0.8071, 0.8071,\n",
       "          0.8071, 0.8071, 0.8071, 0.8071, 0.8669, 0.9311, 1.0000],\n",
       "         [0.7515, 0.7515, 0.7515, 0.7515, 0.7515, 0.7515, 0.7515, 0.7515,\n",
       "          0.7515, 0.7515, 0.7515, 0.8071, 0.8669, 0.9311, 1.0000],\n",
       "         [0.6997, 0.6997, 0.6997, 0.6997, 0.6997, 0.6997, 0.6997, 0.6997,\n",
       "          0.6997, 0.6997, 0.7515, 0.8071, 0.8669, 0.9311, 1.0000],\n",
       "         [0.6514, 0.6514, 0.6514, 0.6514, 0.6514, 0.6514, 0.6514, 0.6514,\n",
       "          0.6514, 0.6997, 0.7515, 0.8071, 0.8669, 0.9311, 1.0000],\n",
       "         [0.6065, 0.6065, 0.6065, 0.6065, 0.6065, 0.6065, 0.6065, 0.6065,\n",
       "          0.6514, 0.6997, 0.7515, 0.8071, 0.8669, 0.9311, 1.0000],\n",
       "         [0.5647, 0.5647, 0.5647, 0.5647, 0.5647, 0.5647, 0.5647, 0.6065,\n",
       "          0.6514, 0.6997, 0.7515, 0.8071, 0.8669, 0.9311, 1.0000],\n",
       "         [0.5258, 0.5258, 0.5258, 0.5258, 0.5258, 0.5258, 0.5647, 0.6065,\n",
       "          0.6514, 0.6997, 0.7515, 0.8071, 0.8669, 0.9311, 1.0000],\n",
       "         [0.4895, 0.4895, 0.4895, 0.4895, 0.4895, 0.5258, 0.5647, 0.6065,\n",
       "          0.6514, 0.6997, 0.7515, 0.8071, 0.8669, 0.9311, 1.0000],\n",
       "         [0.4558, 0.4558, 0.4558, 0.4558, 0.4895, 0.5258, 0.5647, 0.6065,\n",
       "          0.6514, 0.6997, 0.7515, 0.8071, 0.8669, 0.9311, 1.0000],\n",
       "         [0.4244, 0.4244, 0.4244, 0.4558, 0.4895, 0.5258, 0.5647, 0.6065,\n",
       "          0.6514, 0.6997, 0.7515, 0.8071, 0.8669, 0.9311, 1.0000],\n",
       "         [0.3951, 0.3951, 0.4244, 0.4558, 0.4895, 0.5258, 0.5647, 0.6065,\n",
       "          0.6514, 0.6997, 0.7515, 0.8071, 0.8669, 0.9311, 1.0000],\n",
       "         [0.3679, 0.3951, 0.4244, 0.4558, 0.4895, 0.5258, 0.5647, 0.6065,\n",
       "          0.6514, 0.6997, 0.7515, 0.8071, 0.8669, 0.9311, 1.0000]]])"
      ]
     },
     "execution_count": 6,
     "metadata": {},
     "output_type": "execute_result"
    }
   ],
   "source": [
    "torch.exp(torch.maximum(pos[:, 0, ...], pos[:, 1, ...])/torch.max(pos) - 1)"
   ]
  }
 ],
 "metadata": {
  "kernelspec": {
   "display_name": "score",
   "language": "python",
   "name": "python3"
  },
  "language_info": {
   "codemirror_mode": {
    "name": "ipython",
    "version": 3
   },
   "file_extension": ".py",
   "mimetype": "text/x-python",
   "name": "python",
   "nbconvert_exporter": "python",
   "pygments_lexer": "ipython3",
   "version": "3.11.0"
  }
 },
 "nbformat": 4,
 "nbformat_minor": 2
}
