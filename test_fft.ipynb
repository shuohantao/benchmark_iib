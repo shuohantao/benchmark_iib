{
 "cells": [
  {
   "cell_type": "code",
   "execution_count": 1,
   "metadata": {},
   "outputs": [],
   "source": [
    "from utils.load import load_mnist\n",
    "import matplotlib.pyplot as plt\n",
    "import torch.nn.functional as F\n",
    "import torch\n",
    "from models.CFFNO import CFFNO\n",
    "from modules.coupling import CouplingLayerFNOv2\n",
    "from modules.partitions import checkerBoard\n",
    "from modules.free_net import CNN_Linear, AliasFreeCNN\n",
    "from torch.distributions.normal import Normal\n",
    "from modules.act_norm import ActNorm"
   ]
  },
  {
   "cell_type": "code",
   "execution_count": 2,
   "metadata": {},
   "outputs": [],
   "source": [
    "pos_enc = torch.zeros((64, 2, 4, 4), dtype=torch.float32)\n",
    "x_coords = torch.arange(4, dtype=torch.float32).view(1, 1, 1, -1)\n",
    "y_coords = torch.arange(4, dtype=torch.float32).view(1, 1, -1, 1)\n",
    "pos_enc[:, 0, :, :] = x_coords\n",
    "pos_enc[:, 1, :, :] = y_coords"
   ]
  },
  {
   "cell_type": "code",
   "execution_count": 5,
   "metadata": {},
   "outputs": [
    {
     "data": {
      "text/plain": [
       "tensor([[0., 0., 0., 0.],\n",
       "        [1., 1., 1., 1.],\n",
       "        [2., 2., 2., 2.],\n",
       "        [3., 3., 3., 3.]])"
      ]
     },
     "execution_count": 5,
     "metadata": {},
     "output_type": "execute_result"
    }
   ],
   "source": [
    "pos_enc[0, 1, ...]"
   ]
  },
  {
   "cell_type": "code",
   "execution_count": 2,
   "metadata": {},
   "outputs": [],
   "source": [
    "def bilinear_seg(x, modes, step, device):\n",
    "    x = x.to(device)\n",
    "    pyramid = [F.interpolate(x, size=(modes, modes), mode='bilinear')]\n",
    "    B, C, H, W = x.shape\n",
    "    for i in range((H - modes)//step - 1):\n",
    "        pyramid.append(F.interpolate(x, size=(modes+(i+1)*step, modes+(i+1)*step), mode='bilinear'))\n",
    "    pyramid.append(x)\n",
    "    residual = []\n",
    "    for i, j in enumerate(pyramid[1:]):\n",
    "        residual.append(j - F.interpolate(pyramid[i], size=(modes+(i+1)*step, modes+(i+1)*step), mode='bilinear'))\n",
    "    residual.insert(0, pyramid[0])\n",
    "    return residual, pyramid"
   ]
  },
  {
   "cell_type": "code",
   "execution_count": 3,
   "metadata": {},
   "outputs": [],
   "source": [
    "train, test = load_mnist(1, shape_setting=[[8, 1]])"
   ]
  },
  {
   "cell_type": "code",
   "execution_count": 4,
   "metadata": {},
   "outputs": [],
   "source": [
    "batch = next(iter(train))"
   ]
  },
  {
   "cell_type": "code",
   "execution_count": 5,
   "metadata": {},
   "outputs": [],
   "source": [
    "x = batch[0].to('cuda')"
   ]
  },
  {
   "cell_type": "code",
   "execution_count": 6,
   "metadata": {},
   "outputs": [],
   "source": [
    "import torch\n",
    "import torch.nn as nn\n",
    "import torch.nn.functional as F\n",
    "from torch.distributions.normal import Normal\n",
    "\n",
    "class NAF(nn.Module):\n",
    "    def __init__(self, shape, *args, **kwargs) -> None:\n",
    "        super().__init__(*args, **kwargs)\n",
    "        encoder = nn.TransformerEncoderLayer(d_model=5, nhead=5, dim_feedforward=2048, dropout=0)\n",
    "        self.ar = nn.TransformerEncoder(encoder_layer=encoder, num_layers=4)\n",
    "        self.f0 = nn.Sequential(nn.Linear(5, 16), nn.ReLU(), nn.Linear(16, 16), nn.ReLU(), nn.Linear(16, 32))\n",
    "        self.prior = Normal(0, 1)\n",
    "        self.scaling_factor = nn.Parameter(torch.zeros(1))\n",
    "\n",
    "    def forward(self, x):\n",
    "        batch_size, _, height, width = x.size()\n",
    "        pos_enc = torch.zeros((batch_size, 4, height, width), dtype=torch.float32, device=x.device)\n",
    "\n",
    "        x_coords = torch.arange(width, dtype=torch.float32, device=x.device).view(1, 1, 1, -1)\n",
    "        y_coords = torch.arange(height, dtype=torch.float32, device=x.device).view(1, 1, -1, 1)\n",
    "\n",
    "        pos_enc[:, 0, :, :] = torch.sin(x_coords / 10000)\n",
    "        pos_enc[:, 1, :, :] = torch.cos(x_coords / 10000)\n",
    "        pos_enc[:, 2, :, :] = torch.sin(y_coords / 10000)\n",
    "        pos_enc[:, 3, :, :] = torch.cos(y_coords / 10000)\n",
    "        start_token = torch.zeros((batch_size, 1, 5), dtype=torch.float32, device=x.device)\n",
    "        x = torch.cat([x, pos_enc], dim=1)\n",
    "        x = x.flatten(start_dim=-2, end_dim=-1).permute(0, 2, 1)\n",
    "        x = torch.cat([start_token, x], dim=1)\n",
    "        sldj = 0\n",
    "        logits = []\n",
    "        s_fac = self.scaling_factor.exp()\n",
    "        mask_history = []\n",
    "        st_history = []\n",
    "        for i in range(x.shape[-2]-1):\n",
    "            masked = x.clone()[:, :i+2, :]\n",
    "            masked[:, -1, 0] = -1\n",
    "            mask_history.append(masked)\n",
    "            st = self.ar(masked)\n",
    "            st = st[:, -1, :]\n",
    "            st = self.f0(st)\n",
    "            st_history.append(st)\n",
    "            st = st.view(-1, 2, 16)\n",
    "            s, t = st.chunk(2, dim=1)\n",
    "            s = s.split(1, dim=-1)\n",
    "            t = t.split(1, dim=-1)\n",
    "            z = x[:, i+1, 0]\n",
    "            ldj = 0\n",
    "            for j in range(16):\n",
    "                scale = s[j].view(-1)\n",
    "                scale = torch.tanh(scale / s_fac) * s_fac\n",
    "                shift = t[j].view(-1)\n",
    "                z = torch.exp(scale) * z.clone() + shift\n",
    "                ldj += s[j]\n",
    "            logits.append(z.unsqueeze(-1))\n",
    "            sldj += ldj.sum()\n",
    "        z = torch.cat(logits, dim=-1)\n",
    "        sldj += self.prior.log_prob(z).sum()\n",
    "        return -sldj, z, mask_history, st_history\n",
    "    \n",
    "    def sample(self, num_samples, resolution,  prior, device):\n",
    "        start_token = torch.zeros((num_samples, 1, 5), dtype=torch.float32, device=device)\n",
    "        pos_enc = torch.zeros((num_samples, 4, resolution, resolution), dtype=torch.float32, device=device)\n",
    "\n",
    "        x_coords = torch.arange(resolution, dtype=torch.float32, device=device).view(1, 1, 1, -1)\n",
    "        y_coords = torch.arange(resolution, dtype=torch.float32, device=device).view(1, 1, -1, 1)\n",
    "\n",
    "        pos_enc[:, 0, :, :] = torch.sin(x_coords / 10000)\n",
    "        pos_enc[:, 1, :, :] = torch.cos(x_coords / 10000)\n",
    "        pos_enc[:, 2, :, :] = torch.sin(y_coords / 10000)\n",
    "        pos_enc[:, 3, :, :] = torch.cos(y_coords / 10000)\n",
    "        x = -torch.ones((num_samples, 1, resolution, resolution), dtype=torch.float32, device=device)\n",
    "        x = torch.cat([x, pos_enc], dim=1)\n",
    "        x = x.flatten(start_dim=-2, end_dim=-1).permute(0, 2, 1)\n",
    "        x = torch.cat([start_token, x], dim=1)\n",
    "        s_fac = self.scaling_factor.exp().view(1, -1, 1, 1)\n",
    "        mask_history = []\n",
    "        st_history = []\n",
    "        for i in range(x.shape[-2]-1):\n",
    "            masked = x[:, :i+2, :]\n",
    "            mask_history.append(masked.clone())\n",
    "            st = self.ar(masked)\n",
    "            st = st[:, -1, :]\n",
    "            st = self.f0(st)\n",
    "            st_history.append(st)\n",
    "            st = st.view(-1, 2, 16)\n",
    "            s, t = st.chunk(2, dim=1)\n",
    "            s = s.split(1, dim=-1)\n",
    "            t = t.split(1, dim=-1)\n",
    "            z = prior[...,i].view(-1)\n",
    "            for j in range(16):\n",
    "                scale = s[-j-1].view(-1)\n",
    "                scale = torch.tanh(scale / s_fac) * s_fac\n",
    "                shift = t[-j-1].view(-1)\n",
    "                z = (z - shift) / torch.exp(scale)\n",
    "            x[:, i+1, 0] = z\n",
    "            print(x.shape)\n",
    "        return x[:, 1:, 0].view(num_samples, 1, resolution, resolution), mask_history, st_history"
   ]
  },
  {
   "cell_type": "code",
   "execution_count": 7,
   "metadata": {},
   "outputs": [],
   "source": [
    "model = NAF(shape=0).to('cuda')\n",
    "_, z, mh0, sh0 = model(x)"
   ]
  },
  {
   "cell_type": "code",
   "execution_count": 8,
   "metadata": {},
   "outputs": [
    {
     "name": "stdout",
     "output_type": "stream",
     "text": [
      "torch.Size([1, 65, 5])\n",
      "torch.Size([1, 65, 5])\n",
      "torch.Size([1, 65, 5])\n",
      "torch.Size([1, 65, 5])\n",
      "torch.Size([1, 65, 5])\n",
      "torch.Size([1, 65, 5])\n",
      "torch.Size([1, 65, 5])\n",
      "torch.Size([1, 65, 5])\n",
      "torch.Size([1, 65, 5])\n",
      "torch.Size([1, 65, 5])\n",
      "torch.Size([1, 65, 5])\n",
      "torch.Size([1, 65, 5])\n",
      "torch.Size([1, 65, 5])\n",
      "torch.Size([1, 65, 5])\n",
      "torch.Size([1, 65, 5])\n",
      "torch.Size([1, 65, 5])\n",
      "torch.Size([1, 65, 5])\n",
      "torch.Size([1, 65, 5])\n",
      "torch.Size([1, 65, 5])\n",
      "torch.Size([1, 65, 5])\n",
      "torch.Size([1, 65, 5])\n",
      "torch.Size([1, 65, 5])\n",
      "torch.Size([1, 65, 5])\n",
      "torch.Size([1, 65, 5])\n",
      "torch.Size([1, 65, 5])\n",
      "torch.Size([1, 65, 5])\n",
      "torch.Size([1, 65, 5])\n",
      "torch.Size([1, 65, 5])\n",
      "torch.Size([1, 65, 5])\n",
      "torch.Size([1, 65, 5])\n",
      "torch.Size([1, 65, 5])\n",
      "torch.Size([1, 65, 5])\n",
      "torch.Size([1, 65, 5])\n",
      "torch.Size([1, 65, 5])\n",
      "torch.Size([1, 65, 5])\n",
      "torch.Size([1, 65, 5])\n",
      "torch.Size([1, 65, 5])\n",
      "torch.Size([1, 65, 5])\n",
      "torch.Size([1, 65, 5])\n",
      "torch.Size([1, 65, 5])\n",
      "torch.Size([1, 65, 5])\n",
      "torch.Size([1, 65, 5])\n",
      "torch.Size([1, 65, 5])\n",
      "torch.Size([1, 65, 5])\n",
      "torch.Size([1, 65, 5])\n",
      "torch.Size([1, 65, 5])\n",
      "torch.Size([1, 65, 5])\n",
      "torch.Size([1, 65, 5])\n",
      "torch.Size([1, 65, 5])\n",
      "torch.Size([1, 65, 5])\n",
      "torch.Size([1, 65, 5])\n",
      "torch.Size([1, 65, 5])\n",
      "torch.Size([1, 65, 5])\n",
      "torch.Size([1, 65, 5])\n",
      "torch.Size([1, 65, 5])\n",
      "torch.Size([1, 65, 5])\n",
      "torch.Size([1, 65, 5])\n",
      "torch.Size([1, 65, 5])\n",
      "torch.Size([1, 65, 5])\n",
      "torch.Size([1, 65, 5])\n",
      "torch.Size([1, 65, 5])\n",
      "torch.Size([1, 65, 5])\n",
      "torch.Size([1, 65, 5])\n",
      "torch.Size([1, 65, 5])\n"
     ]
    }
   ],
   "source": [
    "orig, mh1, sh1 = model.sample(1, 8, z[0].unsqueeze(0), 'cuda')"
   ]
  },
  {
   "cell_type": "code",
   "execution_count": 9,
   "metadata": {},
   "outputs": [
    {
     "data": {
      "text/plain": [
       "torch.Size([1, 1, 8, 8])"
      ]
     },
     "execution_count": 9,
     "metadata": {},
     "output_type": "execute_result"
    }
   ],
   "source": [
    "orig.shape"
   ]
  },
  {
   "cell_type": "code",
   "execution_count": 10,
   "metadata": {},
   "outputs": [
    {
     "data": {
      "text/plain": [
       "<matplotlib.image.AxesImage at 0x7f3fe4ec1cd0>"
      ]
     },
     "execution_count": 10,
     "metadata": {},
     "output_type": "execute_result"
    },
    {
     "data": {
      "image/png": "[encoded data removed]",
      "text/plain": [
       "<Figure size 640x480 with 1 Axes>"
      ]
     },
     "metadata": {},
     "output_type": "display_data"
    }
   ],
   "source": [
    "plt.imshow(x[0, 0].detach().cpu().numpy(), cmap='gray')"
   ]
  },
  {
   "cell_type": "code",
   "execution_count": 11,
   "metadata": {},
   "outputs": [
    {
     "data": {
      "text/plain": [
       "<matplotlib.image.AxesImage at 0x7f3fe0d1c0d0>"
      ]
     },
     "execution_count": 11,
     "metadata": {},
     "output_type": "execute_result"
    },
    {
     "data": {
      "image/png": "[encoded data removed]",
      "text/plain": [
       "<Figure size 640x480 with 1 Axes>"
      ]
     },
     "metadata": {},
     "output_type": "display_data"
    }
   ],
   "source": [
    "plt.imshow(orig[0, 0].detach().cpu().numpy(), cmap='gray')"
   ]
  },
  {
   "cell_type": "code",
   "execution_count": 12,
   "metadata": {},
   "outputs": [
    {
     "name": "stdout",
     "output_type": "stream",
     "text": [
      "tensor(4.5776e-05, device='cuda:0', grad_fn=<MaxBackward1>)\n"
     ]
    }
   ],
   "source": [
    "print(torch.max(torch.abs(orig - x)))"
   ]
  },
  {
   "cell_type": "code",
   "execution_count": 13,
   "metadata": {},
   "outputs": [
    {
     "name": "stdout",
     "output_type": "stream",
     "text": [
      "tensor([[-0.1797,  0.0615,  0.0771, -0.1012,  0.1451,  0.0968,  0.0608, -0.2119,\n",
      "          0.2816,  0.0007, -0.2213, -0.3403,  0.1698, -0.2360, -0.1988,  0.0878,\n",
      "         -0.1438, -0.0517, -0.2423,  0.2383, -0.1863, -0.1695,  0.0787,  0.0332,\n",
      "          0.1772, -0.1735,  0.0736,  0.1715, -0.1427,  0.1486, -0.0875, -0.1606]],\n",
      "       device='cuda:0', grad_fn=<AddmmBackward0>) \n",
      " tensor([[-0.1797,  0.0615,  0.0771, -0.1012,  0.1451,  0.0968,  0.0608, -0.2119,\n",
      "          0.2816,  0.0007, -0.2213, -0.3403,  0.1698, -0.2360, -0.1988,  0.0878,\n",
      "         -0.1438, -0.0517, -0.2423,  0.2383, -0.1863, -0.1695,  0.0787,  0.0332,\n",
      "          0.1772, -0.1735,  0.0736,  0.1715, -0.1427,  0.1486, -0.0875, -0.1606]],\n",
      "       device='cuda:0', grad_fn=<AddmmBackward0>)\n"
     ]
    }
   ],
   "source": [
    "print(sh0[0], \"\\n\", sh1[0])"
   ]
  },
  {
   "cell_type": "code",
   "execution_count": 14,
   "metadata": {},
   "outputs": [
    {
     "name": "stdout",
     "output_type": "stream",
     "text": [
      "tensor(0., device='cuda:0', grad_fn=<MaxBackward1>)\n"
     ]
    }
   ],
   "source": [
    "print(torch.max(torch.abs(sh0[0] - sh1[0])))"
   ]
  }
 ],
 "metadata": {
  "kernelspec": {
   "display_name": "score",
   "language": "python",
   "name": "python3"
  },
  "language_info": {
   "codemirror_mode": {
    "name": "ipython",
    "version": 3
   },
   "file_extension": ".py",
   "mimetype": "text/x-python",
   "name": "python",
   "nbconvert_exporter": "python",
   "pygments_lexer": "ipython3",
   "version": "3.11.0"
  }
 },
 "nbformat": 4,
 "nbformat_minor": 2
}
